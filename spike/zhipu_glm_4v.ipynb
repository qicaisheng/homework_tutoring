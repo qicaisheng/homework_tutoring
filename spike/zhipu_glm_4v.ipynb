{
 "cells": [
  {
   "cell_type": "code",
   "execution_count": 7,
   "metadata": {},
   "outputs": [
    {
     "name": "stdout",
     "output_type": "stream",
     "text": [
      "CompletionMessage(content='这是一张2004年第3期《学科教育》期刊的部分内容。图片的上半部分是一道不完整的材料分析题，下半部分则是两道综合型作业和一道实践型作业。其中，第七大题的两道题分别如下：  \\n例15:如图，梯形上底长5米，下底长x米，高8米。  \\n(1)写出梯形面积y与下底长x之间的关系式；  \\n(2)当x=15米时，y等于多少?  \\n例16:国旗是一个国家的象征。观察下面的国旗，你能找出哪些国家的国旗是对称图形吗?  \\n第八大题的实践型作业的内容是：  \\n例17:请大家回家后在父母的帮助下，调查家中有哪些家用电器。按照下列的表格填写，并思考解答下列问题，然后与全班同学交流。\\n\\n此外，在第七大题的材料中用黑笔做了批注，在“设计意图”四个字下面划了横线，并在其旁边写了“创设情境是小数学教学的重要策略，情境性练习也应是数学作业的重要形式。”', role='assistant', tool_calls=None)\n"
     ]
    }
   ],
   "source": [
    "# Use ZhipuAI SDK\n",
    "\n",
    "from zhipuai import ZhipuAI\n",
    "import os\n",
    "\n",
    "client = ZhipuAI(api_key=os.getenv('ZHIPU_API_KEY')) # 填写您自己的APIKey\n",
    "response = client.chat.completions.create(\n",
    "    model=\"glm-4v\",  # 填写需要调用的模型名称\n",
    "    messages=[\n",
    "      {\n",
    "        \"role\": \"user\",\n",
    "        \"content\": [\n",
    "          {\n",
    "            \"type\": \"image_url\",\n",
    "            \"image_url\": {\n",
    "                # \"url\" : \"https://file3.renrendoc.com/fileroot_temp3/2022-2/24/b81a5059-1da8-4cf3-9fb7-36cafbb511ae/b81a5059-1da8-4cf3-9fb7-36cafbb511ae1.gif\"\n",
    "                # \"url\" : \"https://file3.renrendoc.com/fileroot_temp3/2022-2/9/01c2c414-8f59-431f-bf5c-6320820f98b8/01c2c414-8f59-431f-bf5c-6320820f98b81.gif\"\n",
    "                # \"url\" : \"https://gimg2.baidu.com/image_search/src=http%3A%2F%2Fss2.meipian.me%2Fusers%2F53014402%2Fd24a2c901340072d2e1d7fb87907463a.jpg%3Fmeipian-raw%2Fbucket%2Fivwen%2Fkey%2FdXNlcnMvNTMwMTQ0MDIvZDI0YTJjOTAxMzQwMDcyZDJlMWQ3ZmI4NzkwNzQ2M2EuanBn%2Fsign%2Ffe4403b5fb469d886a07509147a99cfc.jpg&refer=http%3A%2F%2Fss2.meipian.me&app=2002&size=f9999,10000&q=a80&n=0&g=0n&fmt=auto?sec=1730960701&t=091977bf369b62285b25187bde1ab971\"\n",
    "                \"url\" : \"https://b0.bdstatic.com/13ebeceaf91b08f722e01db1b75c8ceb.jpg\"\n",
    "            }\n",
    "          },\n",
    "          {\n",
    "            \"type\": \"text\",\n",
    "            \"text\": \"图里有什么\"\n",
    "          }\n",
    "        ]\n",
    "      }\n",
    "    ]\n",
    ")\n",
    "print(response.choices[0].message)"
   ]
  },
  {
   "cell_type": "code",
   "execution_count": 9,
   "metadata": {},
   "outputs": [
    {
     "name": "stderr",
     "output_type": "stream",
     "text": [
      "[2024-10-09 15:17:14 - httpx:82 - DEBUG] load_ssl_context verify=True cert=None trust_env=True http2=False\n",
      "[2024-10-09 15:17:14 - httpx:148 - DEBUG] load_verify_locations cafile='/Users/now/Documents/llm-code/homework_tutoring/.venv/lib/python3.12/site-packages/certifi/cacert.pem'\n",
      "[2024-10-09 15:17:14 - httpx:82 - DEBUG] load_ssl_context verify=True cert=None trust_env=True http2=False\n",
      "[2024-10-09 15:17:14 - httpx:148 - DEBUG] load_verify_locations cafile='/Users/now/Documents/llm-code/homework_tutoring/.venv/lib/python3.12/site-packages/certifi/cacert.pem'\n",
      "[2024-10-09 15:17:14 - httpx:82 - DEBUG] load_ssl_context verify=True cert=None trust_env=True http2=False\n",
      "[2024-10-09 15:17:14 - httpx:148 - DEBUG] load_verify_locations cafile='/Users/now/Documents/llm-code/homework_tutoring/.venv/lib/python3.12/site-packages/certifi/cacert.pem'\n",
      "[2024-10-09 15:17:14 - openai._base_client:452 - DEBUG] Request options: {'method': 'post', 'url': '/chat/completions', 'files': None, 'json_data': {'messages': [{'role': 'user', 'content': [{'type': 'image_url', 'image_url': {'url': 'https://b0.bdstatic.com/13ebeceaf91b08f722e01db1b75c8ceb.jpg'}}, {'type': 'text', 'text': '图里有什么'}]}], 'model': 'glm-4v'}}\n",
      "[2024-10-09 15:17:14 - openai._base_client:987 - DEBUG] Sending HTTP Request: POST https://open.bigmodel.cn/api/paas/v4/chat/completions\n",
      "[2024-10-09 15:17:22 - httpx:1038 - INFO] HTTP Request: POST https://open.bigmodel.cn/api/paas/v4/chat/completions \"HTTP/1.1 200 OK\"\n",
      "[2024-10-09 15:17:22 - openai._base_client:1026 - DEBUG] HTTP Response: POST https://open.bigmodel.cn/api/paas/v4/chat/completions \"200 OK\" Headers([('date', 'Wed, 09 Oct 2024 07:17:22 GMT'), ('content-type', 'application/json; charset=UTF-8'), ('transfer-encoding', 'chunked'), ('connection', 'keep-alive'), ('set-cookie', 'acw_tc=2f6a1fa617284582348937791e045a0c292238d04e2949f3bf08874fb96426;path=/;HttpOnly;Max-Age=1800'), ('vary', 'Accept-Encoding'), ('vary', 'Origin'), ('vary', 'Access-Control-Request-Method'), ('vary', 'Access-Control-Request-Headers'), ('x-log-id', '20241009151715e2776ea6f7a34b47'), ('vary', 'Origin'), ('vary', 'Access-Control-Request-Method'), ('vary', 'Access-Control-Request-Headers'), ('strict-transport-security', 'max-age=31536000; includeSubDomains'), ('content-encoding', 'gzip')])\n",
      "[2024-10-09 15:17:22 - openai._base_client:1034 - DEBUG] request_id: None\n"
     ]
    },
    {
     "name": "stdout",
     "output_type": "stream",
     "text": [
      "ChatCompletionMessage(content='图中显示了一页《学科教育》杂志2004年第3期的内容。最上面有期刊名字、日期和页数。下方是一道不完整的题目，给出了一个折线统计图，要求分析小白的说法对不对，给出理由。理由部分给出了一些文本信息，主要是关于设计意图在小学数学教学中的重要性。文本信息下面是两道综合型作业题和一道实践型作业题。其中，综合型作业题里面有两道小题，分别给出了梯形图片和16面旗帜图片，要求根据图片回答问题。实践型作业题给出了一张表格，要求填写表格并回答相关问题。', refusal=None, role='assistant', function_call=None, tool_calls=None)\n"
     ]
    }
   ],
   "source": [
    "# Use OpenAI SDK\n",
    "\n",
    "from openai import OpenAI \n",
    "\n",
    "client = OpenAI(\n",
    "    api_key=os.environ.get(\"ZHIPU_API_KEY\"),\n",
    "    base_url=\"https://open.bigmodel.cn/api/paas/v4/\",\n",
    ")\n",
    "\n",
    "completion = client.chat.completions.create(\n",
    "    model=\"glm-4v\",  \n",
    "    messages=[\n",
    "      {\n",
    "        \"role\": \"user\",\n",
    "        \"content\": [\n",
    "          {\n",
    "            \"type\": \"image_url\",\n",
    "            \"image_url\": {\n",
    "                # \"url\" : \"https://file3.renrendoc.com/fileroot_temp3/2022-2/24/b81a5059-1da8-4cf3-9fb7-36cafbb511ae/b81a5059-1da8-4cf3-9fb7-36cafbb511ae1.gif\"\n",
    "                # \"url\" : \"https://file3.renrendoc.com/fileroot_temp3/2022-2/9/01c2c414-8f59-431f-bf5c-6320820f98b8/01c2c414-8f59-431f-bf5c-6320820f98b81.gif\"\n",
    "                # \"url\" : \"https://gimg2.baidu.com/image_search/src=http%3A%2F%2Fss2.meipian.me%2Fusers%2F53014402%2Fd24a2c901340072d2e1d7fb87907463a.jpg%3Fmeipian-raw%2Fbucket%2Fivwen%2Fkey%2FdXNlcnMvNTMwMTQ0MDIvZDI0YTJjOTAxMzQwMDcyZDJlMWQ3ZmI4NzkwNzQ2M2EuanBn%2Fsign%2Ffe4403b5fb469d886a07509147a99cfc.jpg&refer=http%3A%2F%2Fss2.meipian.me&app=2002&size=f9999,10000&q=a80&n=0&g=0n&fmt=auto?sec=1730960701&t=091977bf369b62285b25187bde1ab971\"\n",
    "                \"url\" : \"https://b0.bdstatic.com/13ebeceaf91b08f722e01db1b75c8ceb.jpg\"\n",
    "            }\n",
    "          },\n",
    "          {\n",
    "            \"type\": \"text\",\n",
    "            \"text\": \"图里有什么\"\n",
    "          }\n",
    "        ]\n",
    "      }\n",
    "    ]\n",
    ") \n",
    " \n",
    "print(completion.choices[0].message)\n"
   ]
  }
 ],
 "metadata": {
  "kernelspec": {
   "display_name": "Python 3",
   "language": "python",
   "name": "python3"
  },
  "language_info": {
   "codemirror_mode": {
    "name": "ipython",
    "version": 3
   },
   "file_extension": ".py",
   "mimetype": "text/x-python",
   "name": "python",
   "nbconvert_exporter": "python",
   "pygments_lexer": "ipython3",
   "version": "3.12.4"
  }
 },
 "nbformat": 4,
 "nbformat_minor": 2
}
