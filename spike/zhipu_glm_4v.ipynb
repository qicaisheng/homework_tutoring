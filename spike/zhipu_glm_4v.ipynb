{
 "cells": [
  {
   "cell_type": "code",
   "execution_count": 3,
   "metadata": {},
   "outputs": [],
   "source": [
    "ip = \"10.10.31.134\"\n",
    "port = \"18080\""
   ]
  },
  {
   "cell_type": "code",
   "execution_count": 5,
   "metadata": {},
   "outputs": [
    {
     "name": "stdout",
     "output_type": "stream",
     "text": [
      "CompletionMessage(content='图里是一些数学题。包括口算、计算、脱式计算和应用题。其中口算包含四行，每行有四个算术题。计算有三道题。脱式计算是一道题。应用题共有三道，分别为：\\n\\n1.商店有4筐苹果，每筐55千克，已经卖出135千克，还剩多少千克苹果?\\n\\n2.同学们看电影《海底总动员》，看完这部电影需要2时30分，如果下午2时30分开映，放映结束时应该是什么时间?\\n\\n3.教室前面的墙壁，长6米，宽3米。墙上一块黑板，面积是3平方米。现在要粉刷这', role='assistant', tool_calls=None)\n"
     ]
    }
   ],
   "source": [
    "from zhipuai import ZhipuAI\n",
    "import os\n",
    "\n",
    "client = ZhipuAI(api_key=os.getenv('ZHIPU_API_KEY')) # 填写您自己的APIKey\n",
    "response = client.chat.completions.create(\n",
    "    model=\"glm-4v\",  # 填写需要调用的模型名称\n",
    "    messages=[\n",
    "      {\n",
    "        \"role\": \"user\",\n",
    "        \"content\": [\n",
    "          {\n",
    "            \"type\": \"image_url\",\n",
    "            \"image_url\": {\n",
    "                # \"url\" : \"https://file3.renrendoc.com/fileroot_temp3/2022-2/24/b81a5059-1da8-4cf3-9fb7-36cafbb511ae/b81a5059-1da8-4cf3-9fb7-36cafbb511ae1.gif\"\n",
    "                # \"url\" : \"https://file3.renrendoc.com/fileroot_temp3/2022-2/9/01c2c414-8f59-431f-bf5c-6320820f98b8/01c2c414-8f59-431f-bf5c-6320820f98b81.gif\"\n",
    "                \"url\" : \"https://gimg2.baidu.com/image_search/src=http%3A%2F%2Fss2.meipian.me%2Fusers%2F53014402%2Fd24a2c901340072d2e1d7fb87907463a.jpg%3Fmeipian-raw%2Fbucket%2Fivwen%2Fkey%2FdXNlcnMvNTMwMTQ0MDIvZDI0YTJjOTAxMzQwMDcyZDJlMWQ3ZmI4NzkwNzQ2M2EuanBn%2Fsign%2Ffe4403b5fb469d886a07509147a99cfc.jpg&refer=http%3A%2F%2Fss2.meipian.me&app=2002&size=f9999,10000&q=a80&n=0&g=0n&fmt=auto?sec=1730960701&t=091977bf369b62285b25187bde1ab971\"\n",
    "            }\n",
    "          },\n",
    "          {\n",
    "            \"type\": \"text\",\n",
    "            \"text\": \"图里有什么\"\n",
    "          }\n",
    "        ]\n",
    "      }\n",
    "    ]\n",
    ")\n",
    "print(response.choices[0].message)"
   ]
  },
  {
   "cell_type": "code",
   "execution_count": null,
   "metadata": {},
   "outputs": [],
   "source": []
  }
 ],
 "metadata": {
  "kernelspec": {
   "display_name": "Python 3",
   "language": "python",
   "name": "python3"
  },
  "language_info": {
   "codemirror_mode": {
    "name": "ipython",
    "version": 3
   },
   "file_extension": ".py",
   "mimetype": "text/x-python",
   "name": "python",
   "nbconvert_exporter": "python",
   "pygments_lexer": "ipython3",
   "version": "3.12.4"
  }
 },
 "nbformat": 4,
 "nbformat_minor": 2
}
